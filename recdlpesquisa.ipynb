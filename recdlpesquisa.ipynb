{
  "nbformat": 4,
  "nbformat_minor": 0,
  "metadata": {
    "colab": {
      "provenance": []
    },
    "kernelspec": {
      "name": "python3",
      "display_name": "Python 3"
    },
    "language_info": {
      "name": "python"
    }
  },
  "cells": [
    {
      "cell_type": "markdown",
      "source": [
        "# Código de recomendação por similaridade de cosseno"
      ],
      "metadata": {
        "id": "pzjSy6VQIUp-"
      }
    },
    {
      "cell_type": "code",
      "execution_count": 2,
      "metadata": {
        "colab": {
          "base_uri": "https://localhost:8080/"
        },
        "id": "PKWFJ5WvIKxT",
        "outputId": "c134e007-9c0c-4801-d8ac-b3df2db44f92"
      },
      "outputs": [
        {
          "output_type": "stream",
          "name": "stdout",
          "text": [
            "                     Job Salary Job Experience Required  \\\n",
            "0   Not Disclosed by Recruiter               5 - 10 yrs   \n",
            "1   Not Disclosed by Recruiter                2 - 5 yrs   \n",
            "2   Not Disclosed by Recruiter                0 - 1 yrs   \n",
            "3       2,00,000 - 4,00,000 PA.               0 - 5 yrs   \n",
            "4   Not Disclosed by Recruiter                2 - 5 yrs   \n",
            "\n",
            "                                          Key Skills  \\\n",
            "0                      Media Planning| Digital Media   \n",
            "1   pre sales| closing| software knowledge| clien...   \n",
            "2   Computer science| Fabrication| Quality check|...   \n",
            "3                                  Technical Support   \n",
            "4   manual testing| test engineering| test cases|...   \n",
            "\n",
            "                                Role Category  \\\n",
            "0                                 Advertising   \n",
            "1                                Retail Sales   \n",
            "2                                         R&D   \n",
            "3  Admin/Maintenance/Security/Datawarehousing   \n",
            "4                        Programming & Design   \n",
            "\n",
            "                                     Functional Area  \\\n",
            "0  Marketing , Advertising , MR , PR , Media Plan...   \n",
            "1              Sales , Retail , Business Development   \n",
            "2                           Engineering Design , R&D   \n",
            "3  IT Software - Application Programming , Mainte...   \n",
            "4                         IT Software - QA & Testing   \n",
            "\n",
            "                                Industry                         Job Title  \n",
            "0  Advertising, PR, MR, Event Management  Media Planning Executive/Manager  \n",
            "1         IT-Software, Software Services           Sales Executive/Officer  \n",
            "2                  Recruitment, Staffing                     R&D Executive  \n",
            "3         IT-Software, Software Services        Technical Support Engineer  \n",
            "4         IT-Software, Software Services                  Testing Engineer  \n"
          ]
        }
      ],
      "source": [
        "import numpy as np # importa a biblioteca para realizar operações com os vetores\n",
        "import pandas as pd # biblioteca de estrutura de dados tabular\n",
        "from sklearn.metrics.pairwise import cosine_similarity # biblioteca de similaridade de cosseno\n",
        "import matplotlib.pyplot as plt # biblioteca gráfica\n",
        "from wordcloud import WordCloud, STOPWORDS, ImageColorGenerator #Biblioteca para worldcloud\n",
        "import nltk # Biblioteca de processamento de linguagem natural\n",
        "from nltk.corpus import stopwords\n",
        "import string\n",
        "from sklearn.feature_extraction import text # bib. para converter palavras em matrizes\n",
        "\n",
        "url = \"https://raw.githubusercontent.com/penchel/recdeeplearning/main/Jobs/Jobs/jobs.csv\"\n",
        "data = pd.read_csv(url) # lendo o arquivo\n",
        "data = data.drop(\"Unnamed: 0\",axis=1) # eliminando coluna vazia\n",
        "print(data.head()) # printar os 5 primeiros documentos de \"data\"\n",
        "data.isnull().sum() # sinaliza a existencia de espaços ausentes\n",
        "\n",
        "feature = data[\"Key Skills\"].tolist() # converte a coluna \"Key Skills\" para uma lista\n",
        "tfidf = text.TfidfVectorizer( stop_words=\"english\") # instancia um objeto do módulo tfidVectorizer considerando stop words em ingles\n",
        "tfidf_matrix = tfidf.fit_transform(feature) # transforma a lista feature em uma matriz\n",
        "similarity = cosine_similarity(tfidf_matrix) # Converte a matriz original em uma matriz que armazena cada a similaridade de cada registro por linha em relação aos outros registros\n",
        "\n",
        "indices = pd.Series(data.index, index=data[\"Job Title\"]).drop_duplicates() # armazena os indices de cada título de trabalho em uma estrutura Series excluindo duplicatas\n"
      ]
    },
    {
      "cell_type": "code",
      "source": [
        "def jobs_recommendation(Title, similarity = similarity):\n",
        "    index = indices[Title] #busca o indice numérico baseado no nome do trabalho\n",
        "    similarity_scores = list(enumerate(similarity[index])) # transforma os valores da linha da matriz de similaridade correspondente ao indice em uma lista\n",
        "    similarity_scores = sorted(similarity_scores, key=lambda x: x[::], reverse=True) #ordena essa lista\n",
        "    similarity_scores = similarity_scores[0:5] # filtra essa lista para os valores dos indices de zero a cinco\n",
        "    newsindices = [i[0] for i in similarity_scores] # filtra para aparecer só os indices\n",
        "    return data[['Key Skills']].iloc[newsindices] # projeta as colunas entre colchetes, filtrando pelos indices\n",
        "\n",
        "print(jobs_recommendation(\"Software Developer\"))"
      ],
      "metadata": {
        "colab": {
          "base_uri": "https://localhost:8080/"
        },
        "id": "gDbtwiCkI1pX",
        "outputId": "db1876e9-6650-4d70-c452-0c25803e77a8"
      },
      "execution_count": 6,
      "outputs": [
        {
          "output_type": "stream",
          "name": "stdout",
          "text": [
            "                                             Key Skills\n",
            "6249   Networking| Printing| Aerospace| Raw material...\n",
            "6248   PHP| MVC| Laravel| AWS| SDLC| Wordpress| LAMP...\n",
            "6247   Data analysis| Investment banking| Financial ...\n",
            "6246   Coding| Wordpress| Commerce| HTML| Troublesho...\n",
            "6245   client servicing| client support| background ...\n"
          ]
        }
      ]
    },
    {
      "cell_type": "markdown",
      "source": [
        "# Código inicial de redes neurais (Hello, world!)"
      ],
      "metadata": {
        "id": "jdtSm6g6VfZp"
      }
    },
    {
      "cell_type": "code",
      "source": [
        "import tensorflow as tf\n",
        "tf.__version__\n",
        "mnist = tf.keras.datasets.mnist\n",
        "(x_train, y_train), (x_test, y_test) = mnist.load_data()\n",
        "\n",
        "x_train = tf.keras.utils.normalize(x_train, axis = 1)\n",
        "x_test = tf.keras.utils.normalize(x_test, axis = 1)\n",
        "\n",
        "model = tf.keras.models.Sequential() # cria o modelo sequencial\n",
        "model.add(tf.keras.layers.Flatten()) # faz o 'flatten', gera os 784 neurônios iniciais, 28 x 28 = 784\n",
        "model.add(tf.keras.layers.Dense(16,activation=tf.nn.relu)) # adiciona camada com 16 neurônios\n",
        "model.add(tf.keras.layers.Dense(16,activation=tf.nn.relu)) # adiciona camada com 16 neurônios\n",
        "model.add(tf.keras.layers.Dense(10,activation=tf.nn.softmax)) # adiciona camada final com 10 neurônios\n",
        "\n",
        "model.compile(optimizer = 'adam',\n",
        "              loss = 'sparse_categorical_crossentropy',\n",
        "              metrics = ['accuracy'])\n",
        "\n",
        "model.fit(x_train, y_train, epochs=3, batch_size=1) # treina o modelo depois de compilado\n"
      ],
      "metadata": {
        "colab": {
          "base_uri": "https://localhost:8080/"
        },
        "id": "C8gprwXLW9Mb",
        "outputId": "a58f6344-f991-4bc2-ad1d-16fd11e08f4a"
      },
      "execution_count": 8,
      "outputs": [
        {
          "output_type": "stream",
          "name": "stdout",
          "text": [
            "Epoch 1/3\n",
            "\u001b[1m60000/60000\u001b[0m \u001b[32m━━━━━━━━━━━━━━━━━━━━\u001b[0m\u001b[37m\u001b[0m \u001b[1m94s\u001b[0m 2ms/step - accuracy: 0.8595 - loss: 0.4656\n",
            "Epoch 2/3\n",
            "\u001b[1m60000/60000\u001b[0m \u001b[32m━━━━━━━━━━━━━━━━━━━━\u001b[0m\u001b[37m\u001b[0m \u001b[1m96s\u001b[0m 2ms/step - accuracy: 0.9397 - loss: 0.2026\n",
            "Epoch 3/3\n",
            "\u001b[1m60000/60000\u001b[0m \u001b[32m━━━━━━━━━━━━━━━━━━━━\u001b[0m\u001b[37m\u001b[0m \u001b[1m96s\u001b[0m 2ms/step - accuracy: 0.9472 - loss: 0.1762\n"
          ]
        },
        {
          "output_type": "execute_result",
          "data": {
            "text/plain": [
              "<keras.src.callbacks.history.History at 0x7e730a4a2c80>"
            ]
          },
          "metadata": {},
          "execution_count": 8
        }
      ]
    },
    {
      "cell_type": "markdown",
      "source": [
        "Ver a imagem:"
      ],
      "metadata": {
        "id": "MGOo5Jz0bxu1"
      }
    },
    {
      "cell_type": "code",
      "source": [
        "import matplotlib.pyplot as plt\n",
        "plt.imshow(x_test[10], cmap = plt.cm.binary)\n",
        "plt.show()\n",
        "print(y_test[10])"
      ],
      "metadata": {
        "colab": {
          "base_uri": "https://localhost:8080/",
          "height": 447
        },
        "id": "0F7dETYQb2I1",
        "outputId": "a805ae91-9c45-4f6a-a144-988c3d3215ab"
      },
      "execution_count": 9,
      "outputs": [
        {
          "output_type": "display_data",
          "data": {
            "text/plain": [
              "<Figure size 640x480 with 1 Axes>"
            ],
            "image/png": "[encoded data removed]"
          },
          "metadata": {}
        },
        {
          "output_type": "stream",
          "name": "stdout",
          "text": [
            "0\n"
          ]
        }
      ]
    },
    {
      "cell_type": "code",
      "source": [
        "imagem_normalizada = tf.keras.utils.normalize(x_test[10], axis = 1)\n",
        "imagem_entrada = np.expand_dims(imagem_normalizada, axis=0)\n",
        "previsao = model.predict(imagem_entrada)\n",
        "numero = np.argmax(previsao)\n",
        "print(previsao)\n",
        "print(numero)"
      ],
      "metadata": {
        "colab": {
          "base_uri": "https://localhost:8080/"
        },
        "id": "LwuXJZpZev8_",
        "outputId": "a2cdfaf4-2887-4de7-abd5-d013f3ac6788"
      },
      "execution_count": 10,
      "outputs": [
        {
          "output_type": "stream",
          "name": "stdout",
          "text": [
            "\u001b[1m1/1\u001b[0m \u001b[32m━━━━━━━━━━━━━━━━━━━━\u001b[0m\u001b[37m\u001b[0m \u001b[1m0s\u001b[0m 64ms/step\n",
            "[[9.9945003e-01 6.1459379e-11 1.6996839e-04 6.6580733e-06 2.6707649e-09\n",
            "  1.2992900e-04 1.6939167e-04 2.5021075e-06 6.1114028e-05 1.0537420e-05]]\n",
            "0\n"
          ]
        }
      ]
    }
  ]
}